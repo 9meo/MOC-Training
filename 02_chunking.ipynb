{
 "cells": [
  {
   "cell_type": "code",
   "execution_count": null,
   "id": "2bfbafb4",
   "metadata": {},
   "outputs": [],
   "source": [
    "# -- Cell 1: Imports\n",
    "from llama_index.core.node_parser import TokenTextSplitter\n",
    "\n"
   ]
  },
  {
   "cell_type": "code",
   "execution_count": null,
   "id": "11d1ab7d",
   "metadata": {},
   "outputs": [],
   "source": [
    "# -- Cell 2: กำหนดข้อความตัวอย่าง (หรืออ่านจากไฟล์)\n",
    "sample_text = \"\"\"\n",
    "Retrieval-Augmented Generation (RAG) คือแนวคิดที่นำโมเดลภาษา (LLM) มาผนวกกับความรู้จากเอกสารหรือฐานข้อมูลภายนอก\n",
    "การแบ่งข้อความ (chunking) เป็นขั้นตอนสำคัญเพราะส่งผลโดยตรงกับการค้นคืน (retrieval) และคุณภาพการสรุปผล\n",
    "chunk เล็ก: ให้รายละเอียดและบริบทแคบ แต่ค้นหาเฉพาะจุดได้ดี\n",
    "chunk ใหญ่: มีบริบทมากขึ้น แต่บางทีอาจครอบคลุมหัวข้อกว้างเกินไปจนค้นหายาก\n",
    "\"\"\"\n"
   ]
  },
  {
   "cell_type": "code",
   "execution_count": null,
   "id": "c49ea0db",
   "metadata": {},
   "outputs": [],
   "source": [
    "\n",
    "# -- Cell 3: เปรียบเทียบขนาด chunk\n",
    "chunk_sizes = [32, 64, 128, 256]\n",
    "for sz in chunk_sizes:\n",
    "    splitter = TokenTextSplitter(chunk_size=sz, chunk_overlap=8)\n",
    "    chunks = splitter.split_text(sample_text)\n",
    "    print(f\"\\n=== Chunk Size: {sz} ({len(chunks)} chunks) ===\")\n",
    "    for i, c in enumerate(chunks):\n",
    "        print(f\"[{i+1}] {c.strip()}\")\n",
    "\n"
   ]
  },
  {
   "cell_type": "code",
   "execution_count": null,
   "id": "b6afeda6",
   "metadata": {},
   "outputs": [],
   "source": [
    "# -- Cell 4: อภิปรายผล\n",
    "print(\"\"\"\n",
    "ข้อสังเกต/คำถามชวนคิด:\n",
    "- เมื่อใช้ chunk ขนาดเล็ก จำนวน chunk จะเพิ่มขึ้น และแต่ละ chunk จะมีข้อมูลสั้น อาจทำให้ retrieval ตรงจุดมากขึ้น\n",
    "- ถ้าใช้ chunk ใหญ่ ข้อมูลแต่ละชิ้นจะครอบคลุมหลายประเด็น เวลาค้นหาอาจได้บริบทมากขึ้น แต่ความเฉพาะเจาะจงอาจลดลง\n",
    "- มีโอกาสที่บางหัวข้อจะถูกตัดกลาง ถ้า chunk size เล็กเกินไป\n",
    "\"\"\")\n",
    "\n"
   ]
  },
  {
   "cell_type": "code",
   "execution_count": null,
   "id": "d6701fc2",
   "metadata": {},
   "outputs": [],
   "source": [
    "# -- Cell 5: (Optional) ทดลองกับข้อความ/เอกสารที่ผู้เรียนกำหนดเอง\n",
    "# custom_text = \"ใส่ข้อความเองที่นี่...\"\n",
    "# for sz in [64, 128]:\n",
    "#     splitter = TokenTextSplitter(chunk_size=sz, chunk_overlap=8)\n",
    "#     chunks = splitter.split_text(custom_text)\n",
    "#     print(f\"\\n== Custom Chunk Size {sz} ==\")\n",
    "#     for i, c in enumerate(chunks):\n",
    "#         print(f\"[{i+1}] {c.strip()}\")\n"
   ]
  }
 ],
 "metadata": {
  "kernelspec": {
   "display_name": "env",
   "language": "python",
   "name": "python3"
  },
  "language_info": {
   "codemirror_mode": {
    "name": "ipython",
    "version": 3
   },
   "file_extension": ".py",
   "mimetype": "text/x-python",
   "name": "python",
   "nbconvert_exporter": "python",
   "pygments_lexer": "ipython3",
   "version": "3.10.12"
  }
 },
 "nbformat": 4,
 "nbformat_minor": 5
}
