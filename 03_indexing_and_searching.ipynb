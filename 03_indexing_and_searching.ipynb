{
 "cells": [
  {
   "cell_type": "code",
   "execution_count": null,
   "id": "9c82fa1e",
   "metadata": {},
   "outputs": [],
   "source": [
    "from llama_index.core import SimpleDirectoryReader\n",
    "from llama_index.embeddings.huggingface import HuggingFaceEmbedding\n",
    "from llama_index.core.node_parser import TokenTextSplitter\n",
    "from llama_index.vector_stores.faiss import FaissVectorStore\n",
    "from llama_index.core import VectorStoreIndex, StorageContext"
   ]
  },
  {
   "cell_type": "code",
   "execution_count": null,
   "id": "4ca9eb05",
   "metadata": {},
   "outputs": [],
   "source": [
    "reader = SimpleDirectoryReader(input_dir=\"data\")\n",
    "docs = reader.load_data()\n",
    "print(f\"จำนวนไฟล์: {len(docs)}\")"
   ]
  },
  {
   "cell_type": "code",
   "execution_count": null,
   "id": "a5bcb7fa",
   "metadata": {},
   "outputs": [],
   "source": [
    "splitter_small = TokenTextSplitter(chunk_size=32, chunk_overlap=8)\n",
    "splitter_large = TokenTextSplitter(chunk_size=128, chunk_overlap=16)\n",
    "\n",
    "nodes_small = splitter_small.get_nodes_from_documents(docs)\n",
    "nodes_large = splitter_large.get_nodes_from_documents(docs)\n"
   ]
  },
  {
   "cell_type": "code",
   "execution_count": null,
   "id": "a92cca38",
   "metadata": {},
   "outputs": [],
   "source": [
    "embed_model = HuggingFaceEmbedding(model_name=\"BAAI/bge-m3\")\n"
   ]
  },
  {
   "cell_type": "code",
   "execution_count": null,
   "id": "3ec2737b",
   "metadata": {},
   "outputs": [],
   "source": [
    "faiss_store_small = FaissVectorStore(dim=embed_model.embed_dim)\n",
    "storage_context_small = StorageContext.from_defaults(vector_store=faiss_store_small)\n",
    "index_small = VectorStoreIndex(\n",
    "    nodes_small, embed_model=embed_model, storage_context=storage_context_small\n",
    ")"
   ]
  },
  {
   "cell_type": "code",
   "execution_count": null,
   "id": "95c1d6fb",
   "metadata": {},
   "outputs": [],
   "source": [
    "faiss_store_large = FaissVectorStore(dim=embed_model.embed_dim)\n",
    "storage_context_large = StorageContext.from_defaults(vector_store=faiss_store_large)\n",
    "index_large = VectorStoreIndex(\n",
    "    nodes_large, embed_model=embed_model, storage_context=storage_context_large\n",
    ")"
   ]
  },
  {
   "cell_type": "code",
   "execution_count": null,
   "id": "f8bb7068",
   "metadata": {},
   "outputs": [],
   "source": []
  },
  {
   "cell_type": "markdown",
   "id": "563146e1",
   "metadata": {},
   "source": [
    "# SEARCHING\n"
   ]
  },
  {
   "cell_type": "markdown",
   "id": "83cd2c0a",
   "metadata": {},
   "source": [
    "from llama_index.core.query_engine import RetrieverQueryEngine\n",
    "from llama_index.core.retrievers import VectorIndexRetriever\n",
    "from llama_index.core.prompts.default_prompts import DEFAULT_SIMPLE_INPUT_PROMPT"
   ]
  },
  {
   "cell_type": "code",
   "execution_count": null,
   "id": "2e60161a",
   "metadata": {},
   "outputs": [],
   "source": [
    "question = \"RAG สำคัญกับ AI อย่างไร\"\n",
    "\n",
    "retriever_small = VectorIndexRetriever(index=index_small, similarity_top_k=2)\n",
    "retriever_large = VectorIndexRetriever(index=index_large, similarity_top_k=2)\n",
    "\n",
    "engine_small = RetrieverQueryEngine(retriever=retriever_small, input_prompt=DEFAULT_SIMPLE_INPUT_PROMPT)\n",
    "engine_large = RetrieverQueryEngine(retriever=retriever_large, input_prompt=DEFAULT_SIMPLE_INPUT_PROMPT)\n",
    "\n",
    "response_small = engine_small.query(question)\n",
    "response_large = engine_large.query(question)\n",
    "\n",
    "print(\"[FAISS][chunk_size=32] คำตอบ:\", response_small.response)\n",
    "print(\"\\nSource nodes:\")\n",
    "for ctx in response_small.source_nodes:\n",
    "    print(\"-\", ctx.get_content())\n",
    "\n",
    "print(\"\\n----------------------\\n\")\n",
    "print(\"[FAISS][chunk_size=128] คำตอบ:\", response_large.response)\n",
    "print(\"\\nSource nodes:\")\n",
    "for ctx in response_large.source_nodes:\n",
    "    print(\"-\", ctx.get_content())"
   ]
  }
 ],
 "metadata": {
  "kernelspec": {
   "display_name": "env",
   "language": "python",
   "name": "python3"
  },
  "language_info": {
   "name": "python",
   "version": "3.10.12"
  }
 },
 "nbformat": 4,
 "nbformat_minor": 5
}
