{
 "cells": [
  {
   "cell_type": "code",
   "execution_count": 1,
   "id": "44487a6f",
   "metadata": {},
   "outputs": [],
   "source": [
    "import os\n",
    "from llama_index.core import SimpleDirectoryReader, VectorStoreIndex, StorageContext\n",
    "from llama_index.core.node_parser import TokenTextSplitter\n",
    "from llama_index.embeddings.huggingface import HuggingFaceEmbedding\n",
    "from llama_index.vector_stores.chroma import ChromaVectorStore\n",
    "import chromadb\n",
    "\n",
    "from llama_index.core import Settings"
   ]
  },
  {
   "cell_type": "code",
   "execution_count": 2,
   "id": "a50a525d",
   "metadata": {},
   "outputs": [],
   "source": [
    "docs = SimpleDirectoryReader(input_dir=\"./data\").load_data()"
   ]
  },
  {
   "cell_type": "code",
   "execution_count": 3,
   "id": "0fccedb7",
   "metadata": {},
   "outputs": [
    {
     "data": {
      "text/plain": [
       "{'id_': '55a7bd97-d90d-4628-9715-a45faa5811bb',\n",
       " 'embedding': None,\n",
       " 'metadata': {'file_path': '/mnt/d/DEV/MOC-Training/data/sample_doc_thai_1.txt',\n",
       "  'file_name': 'sample_doc_thai_1.txt',\n",
       "  'file_type': 'text/plain',\n",
       "  'file_size': 955,\n",
       "  'creation_date': '2025-07-15',\n",
       "  'last_modified_date': '2025-07-15'},\n",
       " 'excluded_embed_metadata_keys': ['file_name',\n",
       "  'file_type',\n",
       "  'file_size',\n",
       "  'creation_date',\n",
       "  'last_modified_date',\n",
       "  'last_accessed_date'],\n",
       " 'excluded_llm_metadata_keys': ['file_name',\n",
       "  'file_type',\n",
       "  'file_size',\n",
       "  'creation_date',\n",
       "  'last_modified_date',\n",
       "  'last_accessed_date'],\n",
       " 'relationships': {},\n",
       " 'metadata_template': '{key}: {value}',\n",
       " 'metadata_separator': '\\n',\n",
       " 'text_resource': MediaResource(embeddings=None, data=None, text='ปัญญาประดิษฐ์ (AI) ในประเทศไทยกำลังพัฒนาอย่างรวดเร็ว หน่วยงานทั้งภาครัฐและเอกชนให้ความสำคัญกับการนำ AI ไปประยุกต์ใช้ในหลายด้าน เช่น การแพทย์ การศึกษา การเกษตร และอุตสาหกรรม\\n\\nหนึ่งในหัวข้อที่ได้รับความสนใจมากคือ การนำโมเดลภาษา (LLM) มาช่วยในการวิเคราะห์และสรุปข้อมูลภาษาไทย เพื่อเพิ่มประสิทธิภาพการทำงานและลดเวลาที่ใช้ในการประมวลผลข้อมูล\\n', path=None, url=None, mimetype=None),\n",
       " 'image_resource': None,\n",
       " 'audio_resource': None,\n",
       " 'video_resource': None,\n",
       " 'text_template': '{metadata_str}\\n\\n{content}'}"
      ]
     },
     "execution_count": 3,
     "metadata": {},
     "output_type": "execute_result"
    }
   ],
   "source": [
    "docs[0].__dict__"
   ]
  },
  {
   "cell_type": "code",
   "execution_count": 4,
   "id": "1a223eed",
   "metadata": {},
   "outputs": [],
   "source": [
    "\n",
    "import faiss\n",
    "\n",
    "# dimensions of BAAI/bge-m3\n",
    "d = 1024\n",
    "faiss_index = faiss.IndexFlatIP(d)"
   ]
  },
  {
   "cell_type": "code",
   "execution_count": 5,
   "id": "29c204d3",
   "metadata": {},
   "outputs": [],
   "source": [
    "from llama_index.embeddings.huggingface import HuggingFaceEmbedding\n"
   ]
  },
  {
   "cell_type": "code",
   "execution_count": 6,
   "id": "e265f2ad",
   "metadata": {},
   "outputs": [],
   "source": [
    "embedding_model_name = 'BAAI/bge-m3'\n",
    "# embedding_model_name = 'kornwtp/simcse-model-phayathaibert'\n",
    "embed_model = HuggingFaceEmbedding(model_name=embedding_model_name,max_length=1024, device='cpu')"
   ]
  },
  {
   "cell_type": "code",
   "execution_count": 7,
   "id": "9c493cb9",
   "metadata": {},
   "outputs": [
    {
     "data": {
      "application/vnd.jupyter.widget-view+json": {
       "model_id": "a0336c07cd304bdbbabe498c5c8ce3c0",
       "version_major": 2,
       "version_minor": 0
      },
      "text/plain": [
       "Parsing nodes:   0%|          | 0/3 [00:00<?, ?it/s]"
      ]
     },
     "metadata": {},
     "output_type": "display_data"
    }
   ],
   "source": [
    "from llama_index.core.node_parser import SentenceSplitter\n",
    "from llama_index.core.ingestion import IngestionPipeline\n",
    "\n",
    "# ตั้งค่าให้แยกเอกสารเป็น chunk ย่อย ๆ\n",
    "text_splitter = SentenceSplitter(\n",
    "    separator=\" \",       # ใช้เว้นวรรคเป็นตัวแยก\n",
    "    chunk_size=128,     # ขนาดของแต่ละ chunk (จำนวนตัวอักษร)\n",
    "    chunk_overlap=10    # ความซ้อนของข้อความระหว่างแต่ละ chunk\n",
    ")\n",
    "\n",
    "# สร้าง ingestion pipeline ที่ประกอบด้วย text_splitter\n",
    "pipeline = IngestionPipeline(\n",
    "    transformations=[\n",
    "        text_splitter,\n",
    "    ]\n",
    ")\n",
    "\n",
    "# รัน pipeline กับเอกสารที่โหลดไว้ เพื่อแยกเป็น chunks\n",
    "nodes = pipeline.run(\n",
    "    documents=docs,\n",
    "    in_place=True,       # แก้ไขเอกสารเดิมแทนที่จะสร้างใหม่\n",
    "    show_progress=True,  # แสดง progress bar ขณะรัน\n",
    ")\n"
   ]
  },
  {
   "cell_type": "code",
   "execution_count": 8,
   "id": "513a835f",
   "metadata": {},
   "outputs": [
    {
     "name": "stdout",
     "output_type": "stream",
     "text": [
      "LLM is explicitly disabled. Using MockLLM.\n"
     ]
    }
   ],
   "source": [
    "from llama_index.core import Settings\n",
    "\n",
    "Settings.llm = None\n",
    "Settings.embed_model = embed_model"
   ]
  },
  {
   "cell_type": "code",
   "execution_count": 9,
   "id": "39f462dd",
   "metadata": {},
   "outputs": [
    {
     "data": {
      "application/vnd.jupyter.widget-view+json": {
       "model_id": "ee7b591ff4b64c5a95a12d2cbfccb5cd",
       "version_major": 2,
       "version_minor": 0
      },
      "text/plain": [
       "Generating embeddings:   0%|          | 0/10 [00:00<?, ?it/s]"
      ]
     },
     "metadata": {},
     "output_type": "display_data"
    }
   ],
   "source": [
    "# เริ่มต้น client ของ ChromaDB และสร้าง collection สำหรับเก็บเวกเตอร์\n",
    "db = chromadb.PersistentClient(path=\"./chroma_db\")\n",
    "chroma_collection = db.get_or_create_collection(\"rag_demo\")\n",
    "vector_store = ChromaVectorStore(chroma_collection=chroma_collection)\n",
    "\n",
    "# สร้าง storage context สำหรับบันทึกข้อมูล\n",
    "storage_context = StorageContext.from_defaults(vector_store=vector_store)\n",
    "\n",
    "# สร้าง index จากเอกสาร โดยใช้ embedding ที่เรากำหนด\n",
    "index = VectorStoreIndex(\n",
    "    nodes=nodes, storage_context=storage_context, embed_model=embed_model,show_progress=True,  # แสดง progress bar ขณะรัน\n",
    ")"
   ]
  },
  {
   "cell_type": "code",
   "execution_count": 14,
   "id": "fcb209bc",
   "metadata": {},
   "outputs": [],
   "source": [
    "index.storage_context.persist(persist_dir=\"./storage/\")"
   ]
  },
  {
   "cell_type": "code",
   "execution_count": 13,
   "id": "c7e9d234",
   "metadata": {},
   "outputs": [
    {
     "name": "stdout",
     "output_type": "stream",
     "text": [
      "Response: LlamaIndex เป็นเครื่องมือที่ช่วยเชื่อมโยงโมเดลภาษาเข้ากับฐานข้อมูลหรือเอกสารได้อย่างง่ายดาย จุดเด่นคือรองรับการสกัด metadata เช่น ชื่อเรื่อง \n",
      "\n",
      "Score: 0.48732581252309376\n",
      "-------------------------------------------------- \n",
      "\n",
      "\n",
      "Response: embedding ที่นิยมใช้กับภาษาไทยในปัจจุบัน เช่น BAAI/bge-m3 สามารถนำมาใช้ร่วมกับ LlamaIndex เพื่อสร้างระบบ RAG ที่รองรับภาษาไทยได้ดี \n",
      "\n",
      "Score: 0.39552324242833836\n",
      "-------------------------------------------------- \n",
      "\n",
      "\n",
      "Response: การนำโมเดลภาษา (LLM) มาช่วยในการวิเคราะห์และสรุปข้อมูลภาษาไทย \n",
      "\n",
      "Score: 0.34207653990496506\n",
      "-------------------------------------------------- \n",
      "\n",
      "\n",
      "Response: ชื่อเรื่อง คำสำคัญ สาระสังเขป ฯลฯ เพื่อช่วยให้การค้นหาข้อมูลมีประสิทธิภาพมากขึ้น\n",
      "\n",
      "โมเดล embedding \n",
      "\n",
      "Score: 0.29747283041860656\n",
      "-------------------------------------------------- \n",
      "\n",
      "\n",
      "Response: เพราะส่งผลต่อความแม่นยำในการค้นคืนข้อมูล หาก chunk เล็กเกินไปอาจขาดบริบท หากใหญ่เกินไปอาจทำให้ค้นหาข้อมูลยากขึ้น \n",
      "\n",
      "Score: 0.289866336458224\n",
      "-------------------------------------------------- \n",
      "\n",
      "\n"
     ]
    }
   ],
   "source": [
    "retriever = index.as_retriever(similarity_top_k=5)\n",
    "response = retriever.retrieve('LlamaIndex ')\n",
    "for i in range(5):\n",
    "    print('Response:', response[i].text,'\\n')\n",
    "    print('Score:', response[i].score)\n",
    "    print('-'*50,'\\n\\n')"
   ]
  },
  {
   "cell_type": "code",
   "execution_count": null,
   "id": "6910d1ff",
   "metadata": {},
   "outputs": [],
   "source": []
  },
  {
   "cell_type": "code",
   "execution_count": 11,
   "id": "c1130473",
   "metadata": {},
   "outputs": [],
   "source": [
    "from llama_index.core import load_index_from_storage"
   ]
  },
  {
   "cell_type": "code",
   "execution_count": 16,
   "id": "e2f5e523",
   "metadata": {},
   "outputs": [
    {
     "name": "stdout",
     "output_type": "stream",
     "text": [
      "Loading llama_index.core.storage.kvstore.simple_kvstore from ./storage/docstore.json.\n",
      "Loading llama_index.core.storage.kvstore.simple_kvstore from ./storage/index_store.json.\n"
     ]
    }
   ],
   "source": [
    "CHROMA_INDEX_PATH = \"./chroma_db/\"\n",
    "persist_dir = \"./storage/\"\n",
    "chroma_client = chromadb.PersistentClient(path=CHROMA_INDEX_PATH)\n",
    "chroma_collection = chroma_client.get_or_create_collection(\"rag_demo\")\n",
    "\n",
    "# Create vector store\n",
    "chroma_store = ChromaVectorStore(chroma_collection=chroma_collection)\n",
    "\n",
    "storage_ctx = StorageContext.from_defaults(vector_store=chroma_store, persist_dir=persist_dir)\n",
    "index = load_index_from_storage(storage_context=storage_ctx)\n",
    "engine = index.as_query_engine(similarity_top_k=5)"
   ]
  },
  {
   "cell_type": "code",
   "execution_count": 17,
   "id": "32ce63f3",
   "metadata": {},
   "outputs": [
    {
     "name": "stdout",
     "output_type": "stream",
     "text": [
      "Context information is below.\n",
      "---------------------\n",
      "file_path: /mnt/d/DEV/MOC-Training/data/sample_doc_thai_1.txt\n",
      "\n",
      "ปัญญาประดิษฐ์ (AI) ในประเทศไทยกำลังพัฒนาอย่างรวดเร็ว หน่วยงานทั้งภาครัฐและเอกชนให้ความสำคัญกับการนำ AI\n",
      "\n",
      "file_path: /mnt/d/DEV/MOC-Training/data/sample_doc_thai_1.txt\n",
      "\n",
      "AI ไปประยุกต์ใช้ในหลายด้าน เช่น การแพทย์ การศึกษา การเกษตร และอุตสาหกรรม\n",
      "\n",
      "หนึ่งในหัวข้อที่ได้รับความสนใจมากคือ\n",
      "\n",
      "file_path: /mnt/d/DEV/MOC-Training/data/sample_doc_thai_3.txt\n",
      "\n",
      "embedding ที่นิยมใช้กับภาษาไทยในปัจจุบัน เช่น BAAI/bge-m3 สามารถนำมาใช้ร่วมกับ LlamaIndex เพื่อสร้างระบบ RAG ที่รองรับภาษาไทยได้ดี\n",
      "\n",
      "file_path: /mnt/d/DEV/MOC-Training/data/sample_doc_thai_2.txt\n",
      "\n",
      "ระบบ Retrieval-Augmented Generation (RAG) เป็นเทคนิคที่ช่วยให้โมเดลภาษาใหญ่สามารถตอบคำถามจากข้อมูลที่อยู่นอกเหนือจากที่ใช้ฝึกอบรม\n",
      "\n",
      "file_path: /mnt/d/DEV/MOC-Training/data/sample_doc_thai_2.txt\n",
      "\n",
      "ตัวอย่างการนำไปใช้ เช่น การตอบคำถามจากเอกสารหรือฐานความรู้ขององค์กร\n",
      "\n",
      "การเลือกขนาด chunk ที่เหมาะสมเป็นปัจจัยสำคัญ\n",
      "---------------------\n",
      "Given the context information and not prior knowledge, answer the query.\n",
      "Query: AI สำคัญกับประเทศไทยอย่างไร\n",
      "Answer: \n"
     ]
    }
   ],
   "source": [
    "query = \"AI สำคัญกับประเทศไทยอย่างไร\"\n",
    "response = engine.query(query)\n",
    "print(response)"
   ]
  }
 ],
 "metadata": {
  "kernelspec": {
   "display_name": "env",
   "language": "python",
   "name": "python3"
  },
  "language_info": {
   "codemirror_mode": {
    "name": "ipython",
    "version": 3
   },
   "file_extension": ".py",
   "mimetype": "text/x-python",
   "name": "python",
   "nbconvert_exporter": "python",
   "pygments_lexer": "ipython3",
   "version": "3.10.12"
  }
 },
 "nbformat": 4,
 "nbformat_minor": 5
}
