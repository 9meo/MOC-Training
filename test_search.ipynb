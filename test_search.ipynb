{
 "cells": [
  {
   "cell_type": "code",
   "execution_count": 1,
   "id": "44487a6f",
   "metadata": {},
   "outputs": [],
   "source": [
    "import os\n",
    "import faiss\n",
    "from llama_index.core import SimpleDirectoryReader, VectorStoreIndex, StorageContext\n",
    "from llama_index.core.node_parser import TokenTextSplitter\n",
    "from llama_index.embeddings.huggingface import HuggingFaceEmbedding\n",
    "from llama_index.vector_stores.faiss import FaissVectorStore\n",
    "from llama_index.core import Settings"
   ]
  },
  {
   "cell_type": "code",
   "execution_count": 2,
   "id": "a50a525d",
   "metadata": {},
   "outputs": [],
   "source": [
    "docs = SimpleDirectoryReader(input_dir=\"./data\").load_data()"
   ]
  },
  {
   "cell_type": "code",
   "execution_count": null,
   "id": "0fccedb7",
   "metadata": {},
   "outputs": [],
   "source": [
    "docs[0].__dict__"
   ]
  },
  {
   "cell_type": "code",
   "execution_count": 3,
   "id": "1a223eed",
   "metadata": {},
   "outputs": [
    {
     "data": {
      "application/vnd.jupyter.widget-view+json": {
       "model_id": "70f7c875af954b3ea3a65e178620c469",
       "version_major": 2,
       "version_minor": 0
      },
      "text/plain": [
       "Parsing nodes:   0%|          | 0/3 [00:00<?, ?it/s]"
      ]
     },
     "metadata": {},
     "output_type": "display_data"
    }
   ],
   "source": [
    "from llama_index.core.node_parser import SentenceSplitter\n",
    "from llama_index.core.ingestion import IngestionPipeline\n",
    "\n",
    "# ตั้งค่าให้แยกเอกสารเป็น chunk ย่อย ๆ\n",
    "text_splitter = SentenceSplitter(\n",
    "    separator=\" \",       # ใช้เว้นวรรคเป็นตัวแยก\n",
    "    chunk_size=1024,     # ขนาดของแต่ละ chunk (จำนวนตัวอักษร)\n",
    "    chunk_overlap=128    # ความซ้อนของข้อความระหว่างแต่ละ chunk\n",
    ")\n",
    "\n",
    "# สร้าง ingestion pipeline ที่ประกอบด้วย text_splitter\n",
    "pipeline = IngestionPipeline(\n",
    "    transformations=[\n",
    "        text_splitter,\n",
    "    ]\n",
    ")\n",
    "\n",
    "# รัน pipeline กับเอกสารที่โหลดไว้ เพื่อแยกเป็น chunks\n",
    "nodes = pipeline.run(\n",
    "    documents=docs,\n",
    "    in_place=True,       # แก้ไขเอกสารเดิมแทนที่จะสร้างใหม่\n",
    "    show_progress=True,  # แสดง progress bar ขณะรัน\n",
    ")"
   ]
  },
  {
   "cell_type": "code",
   "execution_count": null,
   "id": "e265f2ad",
   "metadata": {},
   "outputs": [],
   "source": [
    "\n",
    "\n",
    "# dimensions of BAAI/bge-m3\n",
    "d = 1024\n",
    "faiss_index = faiss.IndexFlatIP(d)\n",
    "\n",
    "vector_store = FaissVectorStore(faiss_index=faiss_index)\n",
    "storage_context = StorageContext.from_defaults(vector_store=vector_store)"
   ]
  },
  {
   "cell_type": "code",
   "execution_count": 8,
   "id": "92caa244",
   "metadata": {},
   "outputs": [],
   "source": [
    "from llama_index.embeddings.huggingface import HuggingFaceEmbedding\n",
    "embedding_model_name = 'BAAI/bge-m3'\n",
    "embed_model = HuggingFaceEmbedding(model_name=embedding_model_name,max_length=1024, device='cuda:0')"
   ]
  },
  {
   "cell_type": "code",
   "execution_count": 13,
   "id": "3dae02ba",
   "metadata": {},
   "outputs": [
    {
     "data": {
      "application/vnd.jupyter.widget-view+json": {
       "model_id": "2639f836f30e4eaab904315dc38d39b5",
       "version_major": 2,
       "version_minor": 0
      },
      "text/plain": [
       "Generating embeddings:   0%|          | 0/3 [00:00<?, ?it/s]"
      ]
     },
     "metadata": {},
     "output_type": "display_data"
    }
   ],
   "source": [
    "index = VectorStoreIndex(\n",
    "    nodes=nodes,  embed_model=embed_model, show_progress=True,  # แสดง progress bar ขณะรัน\n",
    ")"
   ]
  },
  {
   "cell_type": "code",
   "execution_count": 11,
   "id": "5b467a71",
   "metadata": {},
   "outputs": [],
   "source": [
    "index = VectorStoreIndex.from_documents(docs, embed_model=embed_model)\n"
   ]
  },
  {
   "cell_type": "code",
   "execution_count": 14,
   "id": "c7e9d234",
   "metadata": {},
   "outputs": [
    {
     "name": "stdout",
     "output_type": "stream",
     "text": [
      "Response: LlamaIndex เป็นเครื่องมือที่ช่วยเชื่อมโยงโมเดลภาษาเข้ากับฐานข้อมูลหรือเอกสารได้อย่างง่ายดาย จุดเด่นคือรองรับการสกัด metadata เช่น ชื่อเรื่อง คำสำคัญ สาระสังเขป ฯลฯ เพื่อช่วยให้การค้นหาข้อมูลมีประสิทธิภาพมากขึ้น\n",
      "\n",
      "โมเดล embedding ที่นิยมใช้กับภาษาไทยในปัจจุบัน เช่น BAAI/bge-m3 สามารถนำมาใช้ร่วมกับ LlamaIndex เพื่อสร้างระบบ RAG ที่รองรับภาษาไทยได้ดี \n",
      "\n",
      "Score: 0.6144973488022796\n",
      "-------------------------------------------------- \n",
      "\n",
      "\n",
      "Response: ปัญญาประดิษฐ์ (AI) ในประเทศไทยกำลังพัฒนาอย่างรวดเร็ว หน่วยงานทั้งภาครัฐและเอกชนให้ความสำคัญกับการนำ AI ไปประยุกต์ใช้ในหลายด้าน เช่น การแพทย์ การศึกษา การเกษตร และอุตสาหกรรม\n",
      "\n",
      "หนึ่งในหัวข้อที่ได้รับความสนใจมากคือ การนำโมเดลภาษา (LLM) มาช่วยในการวิเคราะห์และสรุปข้อมูลภาษาไทย เพื่อเพิ่มประสิทธิภาพการทำงานและลดเวลาที่ใช้ในการประมวลผลข้อมูล \n",
      "\n",
      "Score: 0.4605406966344382\n",
      "-------------------------------------------------- \n",
      "\n",
      "\n",
      "Response: ระบบ Retrieval-Augmented Generation (RAG) เป็นเทคนิคที่ช่วยให้โมเดลภาษาใหญ่สามารถตอบคำถามจากข้อมูลที่อยู่นอกเหนือจากที่ใช้ฝึกอบรม ตัวอย่างการนำไปใช้ เช่น การตอบคำถามจากเอกสารหรือฐานความรู้ขององค์กร\n",
      "\n",
      "การเลือกขนาด chunk ที่เหมาะสมเป็นปัจจัยสำคัญ เพราะส่งผลต่อความแม่นยำในการค้นคืนข้อมูล หาก chunk เล็กเกินไปอาจขาดบริบท หากใหญ่เกินไปอาจทำให้ค้นหาข้อมูลยากขึ้น \n",
      "\n",
      "Score: 0.34559059099592393\n",
      "-------------------------------------------------- \n",
      "\n",
      "\n"
     ]
    },
    {
     "ename": "IndexError",
     "evalue": "list index out of range",
     "output_type": "error",
     "traceback": [
      "\u001b[0;31m---------------------------------------------------------------------------\u001b[0m",
      "\u001b[0;31mIndexError\u001b[0m                                Traceback (most recent call last)",
      "Cell \u001b[0;32mIn[14], line 4\u001b[0m\n\u001b[1;32m      2\u001b[0m response \u001b[38;5;241m=\u001b[39m retriever\u001b[38;5;241m.\u001b[39mretrieve(\u001b[38;5;124m'\u001b[39m\u001b[38;5;124mLlamaIndex \u001b[39m\u001b[38;5;124m'\u001b[39m)\n\u001b[1;32m      3\u001b[0m \u001b[38;5;28;01mfor\u001b[39;00m i \u001b[38;5;129;01min\u001b[39;00m \u001b[38;5;28mrange\u001b[39m(\u001b[38;5;241m5\u001b[39m):\n\u001b[0;32m----> 4\u001b[0m     \u001b[38;5;28mprint\u001b[39m(\u001b[38;5;124m'\u001b[39m\u001b[38;5;124mResponse:\u001b[39m\u001b[38;5;124m'\u001b[39m, \u001b[43mresponse\u001b[49m\u001b[43m[\u001b[49m\u001b[43mi\u001b[49m\u001b[43m]\u001b[49m\u001b[38;5;241m.\u001b[39mtext,\u001b[38;5;124m'\u001b[39m\u001b[38;5;130;01m\\n\u001b[39;00m\u001b[38;5;124m'\u001b[39m)\n\u001b[1;32m      5\u001b[0m     \u001b[38;5;28mprint\u001b[39m(\u001b[38;5;124m'\u001b[39m\u001b[38;5;124mScore:\u001b[39m\u001b[38;5;124m'\u001b[39m, response[i]\u001b[38;5;241m.\u001b[39mscore)\n\u001b[1;32m      6\u001b[0m     \u001b[38;5;28mprint\u001b[39m(\u001b[38;5;124m'\u001b[39m\u001b[38;5;124m-\u001b[39m\u001b[38;5;124m'\u001b[39m\u001b[38;5;241m*\u001b[39m\u001b[38;5;241m50\u001b[39m,\u001b[38;5;124m'\u001b[39m\u001b[38;5;130;01m\\n\u001b[39;00m\u001b[38;5;130;01m\\n\u001b[39;00m\u001b[38;5;124m'\u001b[39m)\n",
      "\u001b[0;31mIndexError\u001b[0m: list index out of range"
     ]
    }
   ],
   "source": [
    "retriever = index.as_retriever(similarity_top_k=5)\n",
    "response = retriever.retrieve('LlamaIndex ')\n",
    "for i in range(5):\n",
    "    print('Response:', response[i].text,'\\n')\n",
    "    print('Score:', response[i].score)\n",
    "    print('-'*50,'\\n\\n')"
   ]
  },
  {
   "cell_type": "code",
   "execution_count": null,
   "id": "6910d1ff",
   "metadata": {},
   "outputs": [],
   "source": []
  },
  {
   "cell_type": "code",
   "execution_count": null,
   "id": "6ee3350f",
   "metadata": {},
   "outputs": [],
   "source": [
    "from llama_index.core import Settings\n",
    "\n",
    "Settings.llm = None\n",
    "Settings.embed_model = embed_model"
   ]
  },
  {
   "cell_type": "code",
   "execution_count": null,
   "id": "87eb37c7",
   "metadata": {},
   "outputs": [],
   "source": [
    "from llama_index.core import (\n",
    "\n",
    "    load_index_from_storage,\n",
    "    StorageContext,\n",
    ")\n",
    "\n",
    "from IPython.display import Markdown, display\n",
    "from llama_index.vector_stores.faiss import FaissVectorStore"
   ]
  },
  {
   "cell_type": "code",
   "execution_count": null,
   "id": "cb06050d",
   "metadata": {},
   "outputs": [],
   "source": [
    "persist_dir=\"./storage/\"\n",
    "vector_store = FaissVectorStore.from_persist_dir(persist_dir)\n",
    "storage_context = StorageContext.from_defaults(vector_store=vector_store, persist_dir=persist_dir)\n",
    "index = load_index_from_storage(storage_context=storage_context)"
   ]
  },
  {
   "cell_type": "code",
   "execution_count": null,
   "id": "38038216",
   "metadata": {},
   "outputs": [],
   "source": [
    "retriever = index.as_retriever(similarity_top_k=5)\n",
    "response = retriever.retrieve('AI สำคัญกับประเทศไทยอย่างไร')\n",
    "for i in range(5):\n",
    "    print('Response:', response[i].text,'\\n')\n",
    "    print('Score:', response[i].score)\n",
    "    print('-'*50,'\\n\\n')"
   ]
  }
 ],
 "metadata": {
  "kernelspec": {
   "display_name": "env",
   "language": "python",
   "name": "python3"
  },
  "language_info": {
   "codemirror_mode": {
    "name": "ipython",
    "version": 3
   },
   "file_extension": ".py",
   "mimetype": "text/x-python",
   "name": "python",
   "nbconvert_exporter": "python",
   "pygments_lexer": "ipython3",
   "version": "3.10.12"
  }
 },
 "nbformat": 4,
 "nbformat_minor": 5
}
