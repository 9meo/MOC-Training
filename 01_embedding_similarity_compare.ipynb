{
 "cells": [
  {
   "cell_type": "code",
   "execution_count": null,
   "id": "0282bc2e",
   "metadata": {},
   "outputs": [],
   "source": [
    "# -- Cell 1: Imports\n",
    "from llama_index.embeddings.huggingface import HuggingFaceEmbedding\n",
    "from llama_index.core.node_parser import TokenTextSplitter\n",
    "import numpy as np\n",
    "\n"
   ]
  },
  {
   "cell_type": "code",
   "execution_count": null,
   "id": "c8075934",
   "metadata": {},
   "outputs": [],
   "source": [
    "# -- Cell 2: ฟังก์ชัน cosine similarity\n",
    "def cosine_sim(a, b):\n",
    "    return np.dot(a, b) / (np.linalg.norm(a)*np.linalg.norm(b))\n",
    "\n"
   ]
  },
  {
   "cell_type": "code",
   "execution_count": null,
   "id": "7bbd8578",
   "metadata": {},
   "outputs": [],
   "source": [
    "# -- Cell 3: เปรียบเทียบประโยคหลายกรณี\n",
    "sentence_pairs = [\n",
    "    # ใกล้เคียง/แทบเหมือนกัน\n",
    "    (\"AI ช่วยให้การทำงานสะดวกขึ้น\", \"AI ทำให้การทำงานสะดวกมากขึ้น\"),\n",
    "    # คล้ายแต่บริบทต่าง\n",
    "    (\"AI ในไทยเติบโตเร็ว\", \"AI ในต่างประเทศเติบโตเร็ว\"),\n",
    "    # ต่างกันชัดเจน\n",
    "    (\"ประเทศไทยมีภูเขาสวยงาม\", \"การประมวลผลภาษาธรรมชาติสำคัญกับ AI\"),\n",
    "    # ประโยคคนละเรื่องแต่มีบางคำเหมือนกัน\n",
    "    (\"การวิจัย AI สำคัญมาก\", \"AI ในประเทศไทยสำคัญมาก\"),\n",
    "    # ความหมายตรงข้าม\n",
    "    (\"AI ช่วยเพิ่มประสิทธิภาพ\", \"AI ทำให้ประสิทธิภาพลดลง\"),\n",
    "    # คำซ้ำบริบทต่าง\n",
    "    (\"การประชุมออนไลน์มีข้อดี\", \"ข้อดีของการประชุมแบบออฟไลน์\"),\n",
    "    # ประโยคสั้นๆ\n",
    "    (\"AI สำคัญ\", \"AI ไม่สำคัญ\"),\n",
    "]\n",
    "\n",
    "embed_model = HuggingFaceEmbedding(model_name=\"BAAI/bge-m3\")\n",
    "all_sims = []\n",
    "\n",
    "for i, (s1, s2) in enumerate(sentence_pairs):\n",
    "    v1 = embed_model.get_text_embedding(s1)\n",
    "    v2 = embed_model.get_text_embedding(s2)\n",
    "    sim = cosine_sim(v1, v2)\n",
    "    print(f\"คู่ที่ {i+1}\")\n",
    "    print(f\"  1: {s1}\")\n",
    "    print(f\"  2: {s2}\")\n",
    "    print(f\"  -> cosine similarity: {sim:.4f}\")\n",
    "    all_sims.append(sim)\n",
    "    print('-'*30)\n",
    "\n",
    "\n"
   ]
  },
  {
   "cell_type": "code",
   "execution_count": null,
   "id": "6eae69e7",
   "metadata": {},
   "outputs": [],
   "source": [
    "# -- Cell 4: ให้ผู้เรียนสังเกตและตั้งข้อสังเกต\n",
    "print(\"\\nข้อสังเกต: ค่า similarity ยิ่งเข้าใกล้ 1 คือความหมายใกล้กัน, เข้าใกล้ 0 คือความหมายต่าง, ถ้าค่าติดลบแสดงถึงความตรงข้าม\\n\")\n",
    "\n"
   ]
  },
  {
   "cell_type": "code",
   "execution_count": null,
   "id": "a6ae55d5",
   "metadata": {},
   "outputs": [],
   "source": [
    "# -- Cell 5: [Optional] ลองเพิ่ม/แก้ไข sentence pairs ด้วยตัวเอง แล้วดู similarity\n",
    "# ทดลองเพิ่มเอง เช่น\n",
    "# your_sentence1 = \"...\"\n",
    "# your_sentence2 = \"...\"\n",
    "# v1 = embed_model.get_text_embedding(your_sentence1)\n",
    "# v2 = embed_model.get_text_embedding(your_sentence2)\n",
    "# print(\"cosine similarity:\", cosine_sim(v1, v2))\n"
   ]
  },
  {
   "cell_type": "code",
   "execution_count": null,
   "id": "7da0b851",
   "metadata": {},
   "outputs": [],
   "source": [
    "\n",
    "# -- Cell 6: Section เปรียบเทียบ chunking เหมือนเดิม\n",
    "sample_text = \"\"\"การเลือกขนาด chunk ที่เหมาะสมสำคัญมากสำหรับ RAG\n",
    "chunk ขนาดเล็กให้บริบทน้อยแต่ค้นหาได้ละเอียด\n",
    "chunk ใหญ่ได้บริบทมากแต่ความแม่นยำลดลง\"\"\"\n",
    "\n",
    "for chunk_size in [32, 64, 128]:\n",
    "    splitter = TokenTextSplitter(chunk_size=chunk_size, chunk_overlap=8)\n",
    "    chunks = splitter.split_text(sample_text)\n",
    "    print(f\"\\n--- Chunk Size: {chunk_size} ---\")\n",
    "    for i, c in enumerate(chunks):\n",
    "        print(f\"[{i}] {c}\")"
   ]
  }
 ],
 "metadata": {
  "kernelspec": {
   "display_name": "env",
   "language": "python",
   "name": "python3"
  },
  "language_info": {
   "codemirror_mode": {
    "name": "ipython",
    "version": 3
   },
   "file_extension": ".py",
   "mimetype": "text/x-python",
   "name": "python",
   "nbconvert_exporter": "python",
   "pygments_lexer": "ipython3",
   "version": "3.10.12"
  }
 },
 "nbformat": 4,
 "nbformat_minor": 5
}
